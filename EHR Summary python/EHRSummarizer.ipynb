{
  "cells": [
    {
      "cell_type": "code",
      "execution_count": 1,
      "metadata": {
        "colab": {
          "base_uri": "https://localhost:8080/"
        },
        "id": "EmupplYlHcMV",
        "outputId": "9b8f0c34-c201-444b-c70e-20a5bc47a993"
      },
      "outputs": [
        {
          "output_type": "stream",
          "name": "stdout",
          "text": [
            "Collecting pyngrok\n",
            "  Downloading pyngrok-7.0.5-py3-none-any.whl (21 kB)\n",
            "Requirement already satisfied: PyYAML in /usr/local/lib/python3.10/dist-packages (from pyngrok) (6.0.1)\n",
            "Installing collected packages: pyngrok\n",
            "Successfully installed pyngrok-7.0.5\n",
            "Requirement already satisfied: pyngrok in /usr/local/lib/python3.10/dist-packages (7.0.5)\n",
            "Requirement already satisfied: PyYAML in /usr/local/lib/python3.10/dist-packages (from pyngrok) (6.0.1)\n"
          ]
        }
      ],
      "source": [
        "!pip install pyngrok\n",
        "!pip install --upgrade pyngrok"
      ]
    },
    {
      "cell_type": "code",
      "execution_count": 2,
      "metadata": {
        "colab": {
          "base_uri": "https://localhost:8080/"
        },
        "id": "oXPJUh8UYttd",
        "outputId": "e6e7ebe4-ca31-40af-de10-07ecc9d97a48"
      },
      "outputs": [
        {
          "output_type": "stream",
          "name": "stdout",
          "text": [
            "Requirement already satisfied: spacy in /usr/local/lib/python3.10/dist-packages (3.6.1)\n",
            "Collecting spacy\n",
            "  Downloading spacy-3.7.2-cp310-cp310-manylinux_2_17_x86_64.manylinux2014_x86_64.whl (6.6 MB)\n",
            "\u001b[2K     \u001b[90m━━━━━━━━━━━━━━━━━━━━━━━━━━━━━━━━━━━━━━━━\u001b[0m \u001b[32m6.6/6.6 MB\u001b[0m \u001b[31m21.9 MB/s\u001b[0m eta \u001b[36m0:00:00\u001b[0m\n",
            "\u001b[?25hRequirement already satisfied: spacy-legacy<3.1.0,>=3.0.11 in /usr/local/lib/python3.10/dist-packages (from spacy) (3.0.12)\n",
            "Requirement already satisfied: spacy-loggers<2.0.0,>=1.0.0 in /usr/local/lib/python3.10/dist-packages (from spacy) (1.0.5)\n",
            "Requirement already satisfied: murmurhash<1.1.0,>=0.28.0 in /usr/local/lib/python3.10/dist-packages (from spacy) (1.0.10)\n",
            "Requirement already satisfied: cymem<2.1.0,>=2.0.2 in /usr/local/lib/python3.10/dist-packages (from spacy) (2.0.8)\n",
            "Requirement already satisfied: preshed<3.1.0,>=3.0.2 in /usr/local/lib/python3.10/dist-packages (from spacy) (3.0.9)\n",
            "Requirement already satisfied: thinc<8.3.0,>=8.1.8 in /usr/local/lib/python3.10/dist-packages (from spacy) (8.1.12)\n",
            "Requirement already satisfied: wasabi<1.2.0,>=0.9.1 in /usr/local/lib/python3.10/dist-packages (from spacy) (1.1.2)\n",
            "Requirement already satisfied: srsly<3.0.0,>=2.4.3 in /usr/local/lib/python3.10/dist-packages (from spacy) (2.4.8)\n",
            "Requirement already satisfied: catalogue<2.1.0,>=2.0.6 in /usr/local/lib/python3.10/dist-packages (from spacy) (2.0.10)\n",
            "Collecting weasel<0.4.0,>=0.1.0 (from spacy)\n",
            "  Downloading weasel-0.3.4-py3-none-any.whl (50 kB)\n",
            "\u001b[2K     \u001b[90m━━━━━━━━━━━━━━━━━━━━━━━━━━━━━━━━━━━━━━━━\u001b[0m \u001b[32m50.1/50.1 kB\u001b[0m \u001b[31m4.9 MB/s\u001b[0m eta \u001b[36m0:00:00\u001b[0m\n",
            "\u001b[?25hRequirement already satisfied: typer<0.10.0,>=0.3.0 in /usr/local/lib/python3.10/dist-packages (from spacy) (0.9.0)\n",
            "Requirement already satisfied: smart-open<7.0.0,>=5.2.1 in /usr/local/lib/python3.10/dist-packages (from spacy) (6.4.0)\n",
            "Requirement already satisfied: tqdm<5.0.0,>=4.38.0 in /usr/local/lib/python3.10/dist-packages (from spacy) (4.66.1)\n",
            "Requirement already satisfied: requests<3.0.0,>=2.13.0 in /usr/local/lib/python3.10/dist-packages (from spacy) (2.31.0)\n",
            "Requirement already satisfied: pydantic!=1.8,!=1.8.1,<3.0.0,>=1.7.4 in /usr/local/lib/python3.10/dist-packages (from spacy) (1.10.14)\n",
            "Requirement already satisfied: jinja2 in /usr/local/lib/python3.10/dist-packages (from spacy) (3.1.3)\n",
            "Requirement already satisfied: setuptools in /usr/local/lib/python3.10/dist-packages (from spacy) (67.7.2)\n",
            "Requirement already satisfied: packaging>=20.0 in /usr/local/lib/python3.10/dist-packages (from spacy) (23.2)\n",
            "Requirement already satisfied: langcodes<4.0.0,>=3.2.0 in /usr/local/lib/python3.10/dist-packages (from spacy) (3.3.0)\n",
            "Requirement already satisfied: numpy>=1.19.0 in /usr/local/lib/python3.10/dist-packages (from spacy) (1.23.5)\n",
            "Requirement already satisfied: typing-extensions>=4.2.0 in /usr/local/lib/python3.10/dist-packages (from pydantic!=1.8,!=1.8.1,<3.0.0,>=1.7.4->spacy) (4.5.0)\n",
            "Requirement already satisfied: charset-normalizer<4,>=2 in /usr/local/lib/python3.10/dist-packages (from requests<3.0.0,>=2.13.0->spacy) (3.3.2)\n",
            "Requirement already satisfied: idna<4,>=2.5 in /usr/local/lib/python3.10/dist-packages (from requests<3.0.0,>=2.13.0->spacy) (3.6)\n",
            "Requirement already satisfied: urllib3<3,>=1.21.1 in /usr/local/lib/python3.10/dist-packages (from requests<3.0.0,>=2.13.0->spacy) (2.0.7)\n",
            "Requirement already satisfied: certifi>=2017.4.17 in /usr/local/lib/python3.10/dist-packages (from requests<3.0.0,>=2.13.0->spacy) (2023.11.17)\n",
            "Requirement already satisfied: blis<0.8.0,>=0.7.8 in /usr/local/lib/python3.10/dist-packages (from thinc<8.3.0,>=8.1.8->spacy) (0.7.11)\n",
            "Requirement already satisfied: confection<1.0.0,>=0.0.1 in /usr/local/lib/python3.10/dist-packages (from thinc<8.3.0,>=8.1.8->spacy) (0.1.4)\n",
            "Requirement already satisfied: click<9.0.0,>=7.1.1 in /usr/local/lib/python3.10/dist-packages (from typer<0.10.0,>=0.3.0->spacy) (8.1.7)\n",
            "Collecting cloudpathlib<0.17.0,>=0.7.0 (from weasel<0.4.0,>=0.1.0->spacy)\n",
            "  Downloading cloudpathlib-0.16.0-py3-none-any.whl (45 kB)\n",
            "\u001b[2K     \u001b[90m━━━━━━━━━━━━━━━━━━━━━━━━━━━━━━━━━━━━━━━━\u001b[0m \u001b[32m45.0/45.0 kB\u001b[0m \u001b[31m6.0 MB/s\u001b[0m eta \u001b[36m0:00:00\u001b[0m\n",
            "\u001b[?25hRequirement already satisfied: MarkupSafe>=2.0 in /usr/local/lib/python3.10/dist-packages (from jinja2->spacy) (2.1.4)\n",
            "Installing collected packages: cloudpathlib, weasel, spacy\n",
            "  Attempting uninstall: spacy\n",
            "    Found existing installation: spacy 3.6.1\n",
            "    Uninstalling spacy-3.6.1:\n",
            "      Successfully uninstalled spacy-3.6.1\n",
            "\u001b[31mERROR: pip's dependency resolver does not currently take into account all the packages that are installed. This behaviour is the source of the following dependency conflicts.\n",
            "en-core-web-sm 3.6.0 requires spacy<3.7.0,>=3.6.0, but you have spacy 3.7.2 which is incompatible.\u001b[0m\u001b[31m\n",
            "\u001b[0mSuccessfully installed cloudpathlib-0.16.0 spacy-3.7.2 weasel-0.3.4\n",
            "2024-01-28 15:28:04.146897: E external/local_xla/xla/stream_executor/cuda/cuda_dnn.cc:9261] Unable to register cuDNN factory: Attempting to register factory for plugin cuDNN when one has already been registered\n",
            "2024-01-28 15:28:04.146979: E external/local_xla/xla/stream_executor/cuda/cuda_fft.cc:607] Unable to register cuFFT factory: Attempting to register factory for plugin cuFFT when one has already been registered\n",
            "2024-01-28 15:28:04.148519: E external/local_xla/xla/stream_executor/cuda/cuda_blas.cc:1515] Unable to register cuBLAS factory: Attempting to register factory for plugin cuBLAS when one has already been registered\n",
            "2024-01-28 15:28:04.157572: I tensorflow/core/platform/cpu_feature_guard.cc:182] This TensorFlow binary is optimized to use available CPU instructions in performance-critical operations.\n",
            "To enable the following instructions: AVX2 FMA, in other operations, rebuild TensorFlow with the appropriate compiler flags.\n",
            "2024-01-28 15:28:05.428151: W tensorflow/compiler/tf2tensorrt/utils/py_utils.cc:38] TF-TRT Warning: Could not find TensorRT\n",
            "Collecting en-core-web-sm==3.7.1\n",
            "  Downloading https://github.com/explosion/spacy-models/releases/download/en_core_web_sm-3.7.1/en_core_web_sm-3.7.1-py3-none-any.whl (12.8 MB)\n",
            "\u001b[2K     \u001b[90m━━━━━━━━━━━━━━━━━━━━━━━━━━━━━━━━━━━━━━━━\u001b[0m \u001b[32m12.8/12.8 MB\u001b[0m \u001b[31m52.8 MB/s\u001b[0m eta \u001b[36m0:00:00\u001b[0m\n",
            "\u001b[?25hRequirement already satisfied: spacy<3.8.0,>=3.7.2 in /usr/local/lib/python3.10/dist-packages (from en-core-web-sm==3.7.1) (3.7.2)\n",
            "Requirement already satisfied: spacy-legacy<3.1.0,>=3.0.11 in /usr/local/lib/python3.10/dist-packages (from spacy<3.8.0,>=3.7.2->en-core-web-sm==3.7.1) (3.0.12)\n",
            "Requirement already satisfied: spacy-loggers<2.0.0,>=1.0.0 in /usr/local/lib/python3.10/dist-packages (from spacy<3.8.0,>=3.7.2->en-core-web-sm==3.7.1) (1.0.5)\n",
            "Requirement already satisfied: murmurhash<1.1.0,>=0.28.0 in /usr/local/lib/python3.10/dist-packages (from spacy<3.8.0,>=3.7.2->en-core-web-sm==3.7.1) (1.0.10)\n",
            "Requirement already satisfied: cymem<2.1.0,>=2.0.2 in /usr/local/lib/python3.10/dist-packages (from spacy<3.8.0,>=3.7.2->en-core-web-sm==3.7.1) (2.0.8)\n",
            "Requirement already satisfied: preshed<3.1.0,>=3.0.2 in /usr/local/lib/python3.10/dist-packages (from spacy<3.8.0,>=3.7.2->en-core-web-sm==3.7.1) (3.0.9)\n",
            "Requirement already satisfied: thinc<8.3.0,>=8.1.8 in /usr/local/lib/python3.10/dist-packages (from spacy<3.8.0,>=3.7.2->en-core-web-sm==3.7.1) (8.1.12)\n",
            "Requirement already satisfied: wasabi<1.2.0,>=0.9.1 in /usr/local/lib/python3.10/dist-packages (from spacy<3.8.0,>=3.7.2->en-core-web-sm==3.7.1) (1.1.2)\n",
            "Requirement already satisfied: srsly<3.0.0,>=2.4.3 in /usr/local/lib/python3.10/dist-packages (from spacy<3.8.0,>=3.7.2->en-core-web-sm==3.7.1) (2.4.8)\n",
            "Requirement already satisfied: catalogue<2.1.0,>=2.0.6 in /usr/local/lib/python3.10/dist-packages (from spacy<3.8.0,>=3.7.2->en-core-web-sm==3.7.1) (2.0.10)\n",
            "Requirement already satisfied: weasel<0.4.0,>=0.1.0 in /usr/local/lib/python3.10/dist-packages (from spacy<3.8.0,>=3.7.2->en-core-web-sm==3.7.1) (0.3.4)\n",
            "Requirement already satisfied: typer<0.10.0,>=0.3.0 in /usr/local/lib/python3.10/dist-packages (from spacy<3.8.0,>=3.7.2->en-core-web-sm==3.7.1) (0.9.0)\n",
            "Requirement already satisfied: smart-open<7.0.0,>=5.2.1 in /usr/local/lib/python3.10/dist-packages (from spacy<3.8.0,>=3.7.2->en-core-web-sm==3.7.1) (6.4.0)\n",
            "Requirement already satisfied: tqdm<5.0.0,>=4.38.0 in /usr/local/lib/python3.10/dist-packages (from spacy<3.8.0,>=3.7.2->en-core-web-sm==3.7.1) (4.66.1)\n",
            "Requirement already satisfied: requests<3.0.0,>=2.13.0 in /usr/local/lib/python3.10/dist-packages (from spacy<3.8.0,>=3.7.2->en-core-web-sm==3.7.1) (2.31.0)\n",
            "Requirement already satisfied: pydantic!=1.8,!=1.8.1,<3.0.0,>=1.7.4 in /usr/local/lib/python3.10/dist-packages (from spacy<3.8.0,>=3.7.2->en-core-web-sm==3.7.1) (1.10.14)\n",
            "Requirement already satisfied: jinja2 in /usr/local/lib/python3.10/dist-packages (from spacy<3.8.0,>=3.7.2->en-core-web-sm==3.7.1) (3.1.3)\n",
            "Requirement already satisfied: setuptools in /usr/local/lib/python3.10/dist-packages (from spacy<3.8.0,>=3.7.2->en-core-web-sm==3.7.1) (67.7.2)\n",
            "Requirement already satisfied: packaging>=20.0 in /usr/local/lib/python3.10/dist-packages (from spacy<3.8.0,>=3.7.2->en-core-web-sm==3.7.1) (23.2)\n",
            "Requirement already satisfied: langcodes<4.0.0,>=3.2.0 in /usr/local/lib/python3.10/dist-packages (from spacy<3.8.0,>=3.7.2->en-core-web-sm==3.7.1) (3.3.0)\n",
            "Requirement already satisfied: numpy>=1.19.0 in /usr/local/lib/python3.10/dist-packages (from spacy<3.8.0,>=3.7.2->en-core-web-sm==3.7.1) (1.23.5)\n",
            "Requirement already satisfied: typing-extensions>=4.2.0 in /usr/local/lib/python3.10/dist-packages (from pydantic!=1.8,!=1.8.1,<3.0.0,>=1.7.4->spacy<3.8.0,>=3.7.2->en-core-web-sm==3.7.1) (4.5.0)\n",
            "Requirement already satisfied: charset-normalizer<4,>=2 in /usr/local/lib/python3.10/dist-packages (from requests<3.0.0,>=2.13.0->spacy<3.8.0,>=3.7.2->en-core-web-sm==3.7.1) (3.3.2)\n",
            "Requirement already satisfied: idna<4,>=2.5 in /usr/local/lib/python3.10/dist-packages (from requests<3.0.0,>=2.13.0->spacy<3.8.0,>=3.7.2->en-core-web-sm==3.7.1) (3.6)\n",
            "Requirement already satisfied: urllib3<3,>=1.21.1 in /usr/local/lib/python3.10/dist-packages (from requests<3.0.0,>=2.13.0->spacy<3.8.0,>=3.7.2->en-core-web-sm==3.7.1) (2.0.7)\n",
            "Requirement already satisfied: certifi>=2017.4.17 in /usr/local/lib/python3.10/dist-packages (from requests<3.0.0,>=2.13.0->spacy<3.8.0,>=3.7.2->en-core-web-sm==3.7.1) (2023.11.17)\n",
            "Requirement already satisfied: blis<0.8.0,>=0.7.8 in /usr/local/lib/python3.10/dist-packages (from thinc<8.3.0,>=8.1.8->spacy<3.8.0,>=3.7.2->en-core-web-sm==3.7.1) (0.7.11)\n",
            "Requirement already satisfied: confection<1.0.0,>=0.0.1 in /usr/local/lib/python3.10/dist-packages (from thinc<8.3.0,>=8.1.8->spacy<3.8.0,>=3.7.2->en-core-web-sm==3.7.1) (0.1.4)\n",
            "Requirement already satisfied: click<9.0.0,>=7.1.1 in /usr/local/lib/python3.10/dist-packages (from typer<0.10.0,>=0.3.0->spacy<3.8.0,>=3.7.2->en-core-web-sm==3.7.1) (8.1.7)\n",
            "Requirement already satisfied: cloudpathlib<0.17.0,>=0.7.0 in /usr/local/lib/python3.10/dist-packages (from weasel<0.4.0,>=0.1.0->spacy<3.8.0,>=3.7.2->en-core-web-sm==3.7.1) (0.16.0)\n",
            "Requirement already satisfied: MarkupSafe>=2.0 in /usr/local/lib/python3.10/dist-packages (from jinja2->spacy<3.8.0,>=3.7.2->en-core-web-sm==3.7.1) (2.1.4)\n",
            "Installing collected packages: en-core-web-sm\n",
            "  Attempting uninstall: en-core-web-sm\n",
            "    Found existing installation: en-core-web-sm 3.6.0\n",
            "    Uninstalling en-core-web-sm-3.6.0:\n",
            "      Successfully uninstalled en-core-web-sm-3.6.0\n",
            "Successfully installed en-core-web-sm-3.7.1\n",
            "\u001b[38;5;2m✔ Download and installation successful\u001b[0m\n",
            "You can now load the package via spacy.load('en_core_web_sm')\n"
          ]
        }
      ],
      "source": [
        "!pip install -U spacy\n",
        "!python -m spacy download en_core_web_sm"
      ]
    },
    {
      "cell_type": "code",
      "execution_count": 3,
      "metadata": {
        "id": "Pve9lst6YyU0"
      },
      "outputs": [],
      "source": [
        "import spacy\n",
        "from spacy.lang.en.stop_words import STOP_WORDS\n",
        "from string import punctuation\n",
        "from heapq import nlargest\n",
        "import string"
      ]
    },
    {
      "cell_type": "code",
      "execution_count": 5,
      "metadata": {
        "id": "UH04-FEZHc33"
      },
      "outputs": [],
      "source": [
        "from pyngrok import ngrok"
      ]
    },
    {
      "cell_type": "code",
      "execution_count": 4,
      "metadata": {
        "id": "SI7Lc6iWKPK9"
      },
      "outputs": [],
      "source": [
        "port_no = 3000"
      ]
    },
    {
      "cell_type": "code",
      "execution_count": null,
      "metadata": {
        "colab": {
          "base_uri": "https://localhost:8080/"
        },
        "id": "CYdcG8Z4AWKU",
        "outputId": "bfc193d0-4743-4ae7-8ed1-117eced39072"
      },
      "outputs": [
        {
          "name": "stdout",
          "output_type": "stream",
          "text": [
            "Authtoken saved to configuration file: /root/.config/ngrok/ngrok.yml\n"
          ]
        }
      ],
      "source": [
        "!ngrok authtoken '2bSStTNdeNyymLGEG3xtHXM0vim_73UeZsM2THq9UfJUjyDz5'"
      ]
    },
    {
      "cell_type": "code",
      "execution_count": 6,
      "metadata": {
        "colab": {
          "base_uri": "https://localhost:8080/"
        },
        "id": "gDpPkb_80VQb",
        "outputId": "983a0bd5-58d7-4012-a00a-75ac0ded6ddd"
      },
      "outputs": [
        {
          "output_type": "stream",
          "name": "stdout",
          "text": []
        }
      ],
      "source": [
        "ngrok.set_auth_token(\"2bSStTNdeNyymLGEG3xtHXM0vim_73UeZsM2THq9UfJUjyDz5\")\n",
        "public_url =  ngrok.connect(port_no).public_url"
      ]
    },
    {
      "cell_type": "code",
      "execution_count": 7,
      "metadata": {
        "colab": {
          "base_uri": "https://localhost:8080/"
        },
        "id": "TxCduOb2QiYC",
        "outputId": "a2e61457-a9a9-42bc-9f24-1ce0b4412cef"
      },
      "outputs": [
        {
          "output_type": "stream",
          "name": "stdout",
          "text": [
            "https://91d4-34-141-128-24.ngrok-free.app\n"
          ]
        }
      ],
      "source": [
        "print(public_url)"
      ]
    },
    {
      "cell_type": "code",
      "execution_count": 8,
      "metadata": {
        "colab": {
          "base_uri": "https://localhost:8080/"
        },
        "id": "_fJr_VQcMhX2",
        "outputId": "9eb4d8ea-ee98-4662-d675-02ca621d50b9"
      },
      "outputs": [
        {
          "output_type": "stream",
          "name": "stdout",
          "text": [
            " * Serving Flask app '__main__'\n",
            " * Debug mode: off\n"
          ]
        },
        {
          "output_type": "stream",
          "name": "stderr",
          "text": [
            "INFO:werkzeug:\u001b[31m\u001b[1mWARNING: This is a development server. Do not use it in a production deployment. Use a production WSGI server instead.\u001b[0m\n",
            " * Running on http://127.0.0.1:3000\n",
            "INFO:werkzeug:\u001b[33mPress CTRL+C to quit\u001b[0m\n"
          ]
        },
        {
          "output_type": "stream",
          "name": "stdout",
          "text": [
            "Received JSON data: {'input_text': '{patient_name:zeba musarrat,symptoms:fever,diagnosis:normal fever ,subdiagnosis:n/a,treatment:test,subtreatment:test,determination:test,type:test,findings:test,comments:test},{patient_name:zeba musarrat,symptoms:Joint Pain, Inflammation, Muscle Stiffness,diagnosis:Orthopedics,subdiagnosis:Muscle Spasms,treatment:Corticosteroid Injections,subtreatment:Injections,determination:n/a,type:Investigational,findings:n/a,comments:Take rest and prevent from lifting weights},{patient_name:zeba musarrat,symptoms:Joint Pain, Inflammation, Muscle Stiffness,diagnosis:Orthopedics,subdiagnosis:Muscle Spasms,treatment:Injection,subtreatment:Corticosteroid Injections,determination:\\\\n/a,type:Investigational,findings:\\\\n/a,comments:Take rest and prevent lifting any weights.},{patient_name:zeba musarrat,symptoms:Joint Pain, Inflammation, Muscle Stiffness,diagnosis:Orthopedics,subdiagnosis:Muscle Spasms,treatment:Injection,subtreatment:Corticosteroid Injections,determination:n/a,type:Investigational ,findings:n/a,comments:Take rest and prevent lifting any weights.},{patient_name:zeba musarrat,symptoms:e,diagnosis:e,subdiagnosis:e,treatment:e,subtreatment:e,determination:e,type:e,findings:e,comments:e},{patient_name:zeba musarrat,symptoms:fever,diagnosis:normal,subdiagnosis:nothing,treatment:medicine and rest only,subtreatment:fever,determination:e,type:e,findings:e,comments:e},{symptoms:,diagnosis:,subdiagnosis:,treatment:,subtreatment:,determination:,type:,findings:,comments:},{symptoms:d,diagnosis:d,subdiagnosis:d,treatment:d,subtreatment:d,determination:d,type:d,findings:d,comments:d},{symptoms:,diagnosis:,subdiagnosis:,treatment:,subtreatment:,determination:,type:,findings:,comments:}'}\n"
          ]
        },
        {
          "output_type": "stream",
          "name": "stderr",
          "text": [
            "INFO:werkzeug:127.0.0.1 - - [28/Jan/2024 15:39:11] \"POST /api/data HTTP/1.1\" 200 -\n"
          ]
        },
        {
          "output_type": "stream",
          "name": "stdout",
          "text": [
            "Mental Health Treatment, Determination: Upheld Decision of Health Plan, Findings: An enrollee has requested  residential treatment center (RTC) services for treatment of her medical condition.\n",
            "\n",
            "     \n",
            "    Diagnosis Category: Infectious, Treatment Category: Pharmacy/Prescription Drugs, Determination: Overturned Decision of Health Plan, Findings: An enrollee has requested Harvoni for treatment of his hepatitis C virus genotype.\n",
            "\n",
            "    \n",
            "Received JSON data: {'input_text': '{patient_name:zeba musarrat,symptoms:fever,diagnosis:normal fever ,subdiagnosis:n/a,treatment:test,subtreatment:test,determination:test,type:test,findings:test,comments:test},{patient_name:zeba musarrat,symptoms:Joint Pain, Inflammation, Muscle Stiffness,diagnosis:Orthopedics,subdiagnosis:Muscle Spasms,treatment:Corticosteroid Injections,subtreatment:Injections,determination:n/a,type:Investigational,findings:n/a,comments:Take rest and prevent from lifting weights},{patient_name:zeba musarrat,symptoms:Joint Pain, Inflammation, Muscle Stiffness,diagnosis:Orthopedics,subdiagnosis:Muscle Spasms,treatment:Injection,subtreatment:Corticosteroid Injections,determination:\\\\n/a,type:Investigational,findings:\\\\n/a,comments:Take rest and prevent lifting any weights.},{patient_name:zeba musarrat,symptoms:Joint Pain, Inflammation, Muscle Stiffness,diagnosis:Orthopedics,subdiagnosis:Muscle Spasms,treatment:Injection,subtreatment:Corticosteroid Injections,determination:n/a,type:Investigational ,findings:n/a,comments:Take rest and prevent lifting any weights.},{patient_name:zeba musarrat,symptoms:e,diagnosis:e,subdiagnosis:e,treatment:e,subtreatment:e,determination:e,type:e,findings:e,comments:e},{patient_name:zeba musarrat,symptoms:fever,diagnosis:normal,subdiagnosis:nothing,treatment:medicine and rest only,subtreatment:fever,determination:e,type:e,findings:e,comments:e},{symptoms:,diagnosis:,subdiagnosis:,treatment:,subtreatment:,determination:,type:,findings:,comments:},{symptoms:d,diagnosis:d,subdiagnosis:d,treatment:d,subtreatment:d,determination:d,type:d,findings:d,comments:d},{symptoms:,diagnosis:,subdiagnosis:,treatment:,subtreatment:,determination:,type:,findings:,comments:}'}\n"
          ]
        },
        {
          "output_type": "stream",
          "name": "stderr",
          "text": [
            "INFO:werkzeug:127.0.0.1 - - [28/Jan/2024 15:39:30] \"POST /api/data HTTP/1.1\" 200 -\n"
          ]
        },
        {
          "output_type": "stream",
          "name": "stdout",
          "text": [
            "Mental Health Treatment, Determination: Upheld Decision of Health Plan, Findings: An enrollee has requested  residential treatment center (RTC) services for treatment of her medical condition.\n",
            "\n",
            "     \n",
            "    Diagnosis Category: Infectious, Treatment Category: Pharmacy/Prescription Drugs, Determination: Overturned Decision of Health Plan, Findings: An enrollee has requested Harvoni for treatment of his hepatitis C virus genotype.\n",
            "\n",
            "    \n",
            "Received JSON data: {'input_text': '{patient_name:zeba musarrat,symptoms:fever,diagnosis:normal fever ,subdiagnosis:n/a,treatment:test,subtreatment:test,determination:test,type:test,findings:test,comments:test},{patient_name:zeba musarrat,symptoms:Joint Pain, Inflammation, Muscle Stiffness,diagnosis:Orthopedics,subdiagnosis:Muscle Spasms,treatment:Corticosteroid Injections,subtreatment:Injections,determination:n/a,type:Investigational,findings:n/a,comments:Take rest and prevent from lifting weights},{patient_name:zeba musarrat,symptoms:Joint Pain, Inflammation, Muscle Stiffness,diagnosis:Orthopedics,subdiagnosis:Muscle Spasms,treatment:Injection,subtreatment:Corticosteroid Injections,determination:\\\\n/a,type:Investigational,findings:\\\\n/a,comments:Take rest and prevent lifting any weights.},{patient_name:zeba musarrat,symptoms:Joint Pain, Inflammation, Muscle Stiffness,diagnosis:Orthopedics,subdiagnosis:Muscle Spasms,treatment:Injection,subtreatment:Corticosteroid Injections,determination:n/a,type:Investigational ,findings:n/a,comments:Take rest and prevent lifting any weights.},{patient_name:zeba musarrat,symptoms:e,diagnosis:e,subdiagnosis:e,treatment:e,subtreatment:e,determination:e,type:e,findings:e,comments:e},{patient_name:zeba musarrat,symptoms:fever,diagnosis:normal,subdiagnosis:nothing,treatment:medicine and rest only,subtreatment:fever,determination:e,type:e,findings:e,comments:e},{symptoms:,diagnosis:,subdiagnosis:,treatment:,subtreatment:,determination:,type:,findings:,comments:},{symptoms:d,diagnosis:d,subdiagnosis:d,treatment:d,subtreatment:d,determination:d,type:d,findings:d,comments:d},{symptoms:,diagnosis:,subdiagnosis:,treatment:,subtreatment:,determination:,type:,findings:,comments:}'}\n"
          ]
        },
        {
          "output_type": "stream",
          "name": "stderr",
          "text": [
            "INFO:werkzeug:127.0.0.1 - - [28/Jan/2024 15:44:39] \"POST /api/data HTTP/1.1\" 200 -\n"
          ]
        },
        {
          "output_type": "stream",
          "name": "stdout",
          "text": [
            "Mental Health Treatment, Determination: Upheld Decision of Health Plan, Findings: An enrollee has requested  residential treatment center (RTC) services for treatment of her medical condition.\n",
            "\n",
            "     \n",
            "    Diagnosis Category: Infectious, Treatment Category: Pharmacy/Prescription Drugs, Determination: Overturned Decision of Health Plan, Findings: An enrollee has requested Harvoni for treatment of his hepatitis C virus genotype.\n",
            "\n",
            "    \n"
          ]
        }
      ],
      "source": [
        "from flask import Flask, request, jsonify\n",
        "\n",
        "app = Flask(__name__)\n",
        "\n",
        "@app.route('/api/data', methods=['POST'])\n",
        "def handle_post_request():\n",
        "    json_data = request.json\n",
        "    text = json_data.replace('{', '').replace('}', '').replace(\"'\", '').replace(',', ' , ')\n",
        "    print('Received JSON data:', text)\n",
        "    # text = \"\"\"\n",
        "    # Diagnosis Category: Infectious, Treatment Category: Pharmacy/Prescription Drugs, Determination: Overturned Decision of Health Plan, Findings: An enrollee has requested Harvoni for treatment of his hepatitis C virus genotype.\\n\n",
        "    # Diagnosis Category: Mental, Treatment Category: Mental Health Treatment, Determination: Upheld Decision of Health Plan, Findings: An enrollee has requested  residential treatment center (RTC) services for treatment of her medical condition.\\n\n",
        "    # Diagnosis Category: Prevention/Good Health, Treatment Category: Diagnostic Imaging, Screening and Testing, Determination: Overturned Decision of Health Plan, Findings: An enrollee has requested breast tomosynthesis for evaluation of her medical condition.\n",
        "    # \"\"\"\n",
        "    stopwords = list(STOP_WORDS)\n",
        "    nlp = spacy.load('en_core_web_sm')\n",
        "    doc = nlp(text)\n",
        "    tokens = [token.text for token in doc]\n",
        "\n",
        "    punctuation = string.punctuation + '\\n'\n",
        "\n",
        "    word_frequencies = {}\n",
        "    for word in doc:\n",
        "      if word.text.lower() not in stopwords:\n",
        "          if word.text.lower() not in punctuation:\n",
        "              if word.text not in word_frequencies.keys():\n",
        "                  word_frequencies[word.text] = 1\n",
        "              else:\n",
        "                  word_frequencies[word.text] += 1\n",
        "\n",
        "    max_frequency = max(word_frequencies.values())\n",
        "\n",
        "    for word in word_frequencies.keys():\n",
        "      word_frequencies[word] = word_frequencies[word]/max_frequency\n",
        "\n",
        "    sentence_tokens = [sent for sent in doc.sents]\n",
        "\n",
        "    sentence_scores = {}\n",
        "    for sent in sentence_tokens:\n",
        "      for word in sent:\n",
        "          if word.text.lower() in word_frequencies.keys():\n",
        "              if sent not in sentence_scores.keys():\n",
        "                  sentence_scores[sent] = word_frequencies[word.text.lower()]\n",
        "              else:\n",
        "                  sentence_scores[sent] += word_frequencies[word.text.lower()]\n",
        "\n",
        "    select_length = int(len(sentence_tokens)*0.6)\n",
        "    summary = nlargest(select_length, sentence_scores, key = sentence_scores.get)\n",
        "    final_summary = [word.text for word in summary]\n",
        "    summary = ' '.join(final_summary)\n",
        "\n",
        "    print(summary)\n",
        "    response_data = {'status': 'success', 'summary': summary}\n",
        "\n",
        "    return jsonify(response_data), 200\n",
        "\n",
        "if __name__ == '__main__':\n",
        "    app.run(port=port_no)\n"
      ]
    }
  ],
  "metadata": {
    "colab": {
      "provenance": []
    },
    "kernelspec": {
      "display_name": "Python 3",
      "name": "python3"
    },
    "language_info": {
      "name": "python"
    }
  },
  "nbformat": 4,
  "nbformat_minor": 0
}